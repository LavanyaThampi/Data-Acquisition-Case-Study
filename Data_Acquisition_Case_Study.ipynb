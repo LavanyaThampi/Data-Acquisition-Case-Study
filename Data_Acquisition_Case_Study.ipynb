{
  "nbformat": 4,
  "nbformat_minor": 0,
  "metadata": {
    "colab": {
      "provenance": []
    },
    "kernelspec": {
      "name": "python3",
      "display_name": "Python 3"
    },
    "language_info": {
      "name": "python"
    }
  },
  "cells": [
    {
      "cell_type": "markdown",
      "source": [
        "#Data Acquisition Case Study"
      ],
      "metadata": {
        "id": "6aRvzWzbhcnp"
      }
    },
    {
      "cell_type": "markdown",
      "source": [
        "## Q1. Write Python code to create a new file named \"sample_data.txt\" in your documents folder and write the following content to it\n",
        "\n",
        "ICTAK\n",
        "\n",
        "Thejaswini,\n",
        "\n",
        "Technopark Rd,\n",
        "\n",
        "Technopark Campus,\n",
        "\n",
        "Thiruvananthapuram,\n",
        "\n",
        "Kerala 695581"
      ],
      "metadata": {
        "id": "734JDyUNq8fH"
      }
    },
    {
      "cell_type": "code",
      "source": [
        "import os"
      ],
      "metadata": {
        "id": "ieKhqBr-nl7s"
      },
      "execution_count": 1,
      "outputs": []
    },
    {
      "cell_type": "code",
      "source": [
        "content = \"\"\"ICTAK\n",
        "\n",
        "Thejaswini,\n",
        "\n",
        "Technopark Rd,\n",
        "\n",
        "Technopark Campus,\n",
        "\n",
        "Thiruvananthapuram,\n",
        "\n",
        "Kerala 695581\"\"\"\n",
        "home_dir =os.path.expanduser(\"~\")\n",
        "doc_folder = os.path.join(home_dir, \"Documents\")\n",
        "os.makedirs(doc_folder, exist_ok=True)\n",
        "file_path = os.path.join(doc_folder, \"sample_data.txt\")\n",
        "with open(file_path,\"w\") as file:\n",
        "  file.write(content)\n",
        "  print(\"File \",file_path, \"has been created successfully.\")"
      ],
      "metadata": {
        "colab": {
          "base_uri": "https://localhost:8080/"
        },
        "id": "HHKiWOS_c5wr",
        "outputId": "b631aff4-02bc-493c-9342-43c89ec16df3"
      },
      "execution_count": 77,
      "outputs": [
        {
          "output_type": "stream",
          "name": "stdout",
          "text": [
            "File  /root/Documents/sample_data.txt has been created successfully.\n"
          ]
        }
      ]
    },
    {
      "cell_type": "markdown",
      "source": [
        "## Q2. Write Python code to read and print the contents in \"sample_data.txt\""
      ],
      "metadata": {
        "id": "aJ6hQOJpimNv"
      }
    },
    {
      "cell_type": "code",
      "source": [
        "with open(os.path.join(\"/root/Documents/sample_data.txt\"),\"r\") as file:\n",
        "  content = file.read()\n",
        "  print(content)"
      ],
      "metadata": {
        "id": "vRnilPQgnrPG",
        "colab": {
          "base_uri": "https://localhost:8080/"
        },
        "outputId": "ce692e56-6b7f-4bb7-d896-6ad830517d69"
      },
      "execution_count": 10,
      "outputs": [
        {
          "output_type": "stream",
          "name": "stdout",
          "text": [
            "ICTAK\n",
            "\n",
            "Thejaswini,\n",
            "\n",
            "Technopark Rd,\n",
            "\n",
            "Technopark Campus,\n",
            "\n",
            "Thiruvananthapuram,\n",
            "\n",
            "Kerala 695581\n"
          ]
        }
      ]
    },
    {
      "cell_type": "markdown",
      "source": [
        "## Q3. Write Python code to check if \"sample_data.txt\" exists in documents folder"
      ],
      "metadata": {
        "id": "9aHquDcErda-"
      }
    },
    {
      "cell_type": "code",
      "source": [
        "if os.path.exists(\"/root/Documents/sample_data.txt\"):\n",
        "  print(\"The file exists\")\n",
        "else:\n",
        "  print(\"The file does not exist\")"
      ],
      "metadata": {
        "id": "vY5TEsxunsKh",
        "colab": {
          "base_uri": "https://localhost:8080/"
        },
        "outputId": "2dd2fe4f-7d74-42d5-ab34-6aecc8db9625"
      },
      "execution_count": 94,
      "outputs": [
        {
          "output_type": "stream",
          "name": "stdout",
          "text": [
            "The file exists\n"
          ]
        }
      ]
    },
    {
      "cell_type": "markdown",
      "source": [
        "## Q4: Save the following dataframe content to a CSV file (data.csv) in your downloads folder"
      ],
      "metadata": {
        "id": "BCWITkmopblI"
      }
    },
    {
      "cell_type": "code",
      "execution_count": 12,
      "metadata": {
        "id": "r3THwBOGpP9F"
      },
      "outputs": [],
      "source": [
        "import pandas as pd\n",
        "\n",
        "data = {\"Id\": [1, 2, 3],\n",
        "        \"Name\": [\"Alice\", \"Bob\", \"Charlie\"],\n",
        "        \"Subject\": [\"Science\", \"Maths\", \"History\"]}\n",
        "df = pd.DataFrame(data)"
      ]
    },
    {
      "cell_type": "code",
      "source": [
        "downloads_folder = os.path.expanduser(\"~/Downloads\")\n",
        "os.makedirs(downloads_folder, exist_ok=True)\n",
        "file_path = os.path.join(downloads_folder, \"data.csv\")\n",
        "df.to_csv(file_path, index=False)\n",
        "print(\"DataFrame saved to\" ,file_path,\"successfully\")"
      ],
      "metadata": {
        "id": "Joc7XafnntaG",
        "colab": {
          "base_uri": "https://localhost:8080/"
        },
        "outputId": "490539eb-08a1-441b-98f2-2bb6263ea2b8"
      },
      "execution_count": 76,
      "outputs": [
        {
          "output_type": "stream",
          "name": "stdout",
          "text": [
            "DataFrame saved to /root/Downloads/data.csv successfully\n"
          ]
        }
      ]
    },
    {
      "cell_type": "markdown",
      "source": [
        "## Q5: Save the above dataframe content to an Excel (data.xlsx, sheet name: Sheet1) file in your documents folder"
      ],
      "metadata": {
        "id": "VF0nJjGElq0A"
      }
    },
    {
      "cell_type": "code",
      "source": [
        "doc1_folder = os.path.expanduser(\"~/Documents\")\n",
        "file_path = os.path.join(doc1_folder, \"data.xlsx\")\n",
        "df.to_excel(file_path, sheet_name=\"Sheet1\", index=False)\n",
        "print(\"DataFrame saved to\",file_path)"
      ],
      "metadata": {
        "id": "ZtOFb7ZJnu1m",
        "colab": {
          "base_uri": "https://localhost:8080/"
        },
        "outputId": "25d30818-f29d-4de9-cf3e-a023fa9e0fec"
      },
      "execution_count": 75,
      "outputs": [
        {
          "output_type": "stream",
          "name": "stdout",
          "text": [
            "DataFrame saved to /root/Documents/data.xlsx\n"
          ]
        }
      ]
    },
    {
      "cell_type": "markdown",
      "source": [
        "## Q6. Write code to get the list of files in your Downloads folder and save it to a CSV file name \"download_list.csv\""
      ],
      "metadata": {
        "id": "amF6kxMQmdgF"
      }
    },
    {
      "cell_type": "code",
      "source": [
        "downloads_folder = os.path.expanduser(\"~/Downloads\")\n",
        "os.makedirs(downloads_folder, exist_ok=True)\n",
        "files = os.listdir(downloads_folder)\n",
        "df = pd.DataFrame(files, columns=[\"File Name\"])\n",
        "csv_file_path = os.path.join(downloads_folder, \"download_list.csv\")\n",
        "df.to_csv(csv_file_path, index=False)\n",
        "print(\"List of files saved to\", csv_file_path)"
      ],
      "metadata": {
        "id": "nVP86z3dnvwz",
        "colab": {
          "base_uri": "https://localhost:8080/"
        },
        "outputId": "2e9b4c6d-c181-4cee-9932-690ba1acbeae"
      },
      "execution_count": 71,
      "outputs": [
        {
          "output_type": "stream",
          "name": "stdout",
          "text": [
            "List of files saved to /root/Downloads/download_list.csv\n"
          ]
        }
      ]
    },
    {
      "cell_type": "markdown",
      "source": [
        "## Q7. Write Python code to save the contents of the given random_array variable as a numpy file"
      ],
      "metadata": {
        "id": "vR7I4R5bnV2w"
      }
    },
    {
      "cell_type": "code",
      "source": [
        "import numpy as np\n",
        "random_array = np.random.rand(10, 10)"
      ],
      "metadata": {
        "id": "vHXYRxnDnJzA"
      },
      "execution_count": 24,
      "outputs": []
    },
    {
      "cell_type": "code",
      "source": [
        "np.save(\"array.npy\", random_array)\n",
        "print(\"Array saved as 'array.npy'\")"
      ],
      "metadata": {
        "id": "ihhSKJF9n3NP",
        "colab": {
          "base_uri": "https://localhost:8080/"
        },
        "outputId": "464ecdb8-186f-470b-ad71-e5a1c46327be"
      },
      "execution_count": 25,
      "outputs": [
        {
          "output_type": "stream",
          "name": "stdout",
          "text": [
            "Array saved as 'array.npy'\n"
          ]
        }
      ]
    },
    {
      "cell_type": "markdown",
      "source": [
        "## Q8. Write python code to save the contents of the above numpy file as text file named \"random.txt\" with a delimitter of \";\" to Documents folder"
      ],
      "metadata": {
        "id": "V7XfHgGAzNIl"
      }
    },
    {
      "cell_type": "code",
      "source": [
        "doc2_folder = os.path.expanduser(\"~/Documents\")\n",
        "os.makedirs(doc2_folder, exist_ok=True)\n",
        "file_path = os.path.join(doc2_folder, \"random.txt\")\n",
        "np.savetxt(file_path, random_array, delimiter=\";\")\n",
        "print(\"Array saved as\", file_path)"
      ],
      "metadata": {
        "id": "Du3LRbaKbpeg",
        "colab": {
          "base_uri": "https://localhost:8080/"
        },
        "outputId": "e6b82537-136c-4885-f0ac-9c91f417f48c"
      },
      "execution_count": 74,
      "outputs": [
        {
          "output_type": "stream",
          "name": "stdout",
          "text": [
            "Array saved as /root/Documents/random.txt\n"
          ]
        }
      ]
    },
    {
      "cell_type": "markdown",
      "source": [
        "## Download and analyze Bike Sharing Dataset (hour.csv) for UCI Irvin Repository (https://archive.ics.uci.edu/dataset/275/bike+sharing+dataset) and answer the following questions"
      ],
      "metadata": {
        "id": "nJSaX0Rg151y"
      }
    },
    {
      "cell_type": "markdown",
      "source": [
        "## Q9. What is the size of the dataset? (Number of rows and columns)\n",
        "\n"
      ],
      "metadata": {
        "id": "-wt4mxq32U6H"
      }
    },
    {
      "cell_type": "code",
      "source": [
        "with open(\"hour.csv\") as file:\n",
        "    df = pd.read_csv(file)\n",
        "n_rows, n_columns = df.shape\n",
        "print(f\"Size of the dataset: {n_rows} rows and {n_columns} columns.\")"
      ],
      "metadata": {
        "id": "Pj0I0JhF2EEg",
        "colab": {
          "base_uri": "https://localhost:8080/"
        },
        "outputId": "36856806-4fad-4eb8-e03d-116a28ebd35b"
      },
      "execution_count": 33,
      "outputs": [
        {
          "output_type": "stream",
          "name": "stdout",
          "text": [
            "Size of the dataset: 17379 rows and 17 columns.\n"
          ]
        }
      ]
    },
    {
      "cell_type": "markdown",
      "source": [
        "## Q10. What are the data types of each column?\n"
      ],
      "metadata": {
        "id": "GbDnC_i438m8"
      }
    },
    {
      "cell_type": "code",
      "source": [
        "with open(\"hour.csv\") as file:\n",
        "    df = pd.read_csv(file)\n",
        "print(\"Data types of each column:\")\n",
        "print(df.dtypes)"
      ],
      "metadata": {
        "id": "_YJIqJEZ3-DC",
        "colab": {
          "base_uri": "https://localhost:8080/"
        },
        "outputId": "8017462b-9e8c-44a5-c2a6-ffe905c81353"
      },
      "execution_count": 35,
      "outputs": [
        {
          "output_type": "stream",
          "name": "stdout",
          "text": [
            "Data types of each column:\n",
            "instant         int64\n",
            "dteday         object\n",
            "season          int64\n",
            "yr              int64\n",
            "mnth            int64\n",
            "hr              int64\n",
            "holiday         int64\n",
            "weekday         int64\n",
            "workingday      int64\n",
            "weathersit      int64\n",
            "temp          float64\n",
            "atemp         float64\n",
            "hum           float64\n",
            "windspeed     float64\n",
            "casual          int64\n",
            "registered      int64\n",
            "cnt             int64\n",
            "dtype: object\n"
          ]
        }
      ]
    },
    {
      "cell_type": "markdown",
      "source": [
        "## Q11. Are there any missing values in the dataset? If so, which columns have missing values and how many?"
      ],
      "metadata": {
        "id": "zi0jHMq-3_NI"
      }
    },
    {
      "cell_type": "code",
      "source": [
        "with open(\"hour.csv\") as file:\n",
        "    df = pd.read_csv(file)\n",
        "missing_values = df.isnull().sum()\n",
        "if missing_values.any():\n",
        "    print(\"Columns with missing values:\")\n",
        "else:\n",
        "    print(\"No missing values found in the dataset.\")"
      ],
      "metadata": {
        "id": "mct7F2M-3-kQ",
        "colab": {
          "base_uri": "https://localhost:8080/"
        },
        "outputId": "85bbf75e-40f0-46c1-c630-f24cd8b637c1"
      },
      "execution_count": 38,
      "outputs": [
        {
          "output_type": "stream",
          "name": "stdout",
          "text": [
            "No missing values found in the dataset.\n"
          ]
        }
      ]
    },
    {
      "cell_type": "markdown",
      "source": [
        "## Q.12. For the windspeed column, calculate the mean, median, and standard deviation."
      ],
      "metadata": {
        "id": "Ew__56Iq4BMK"
      }
    },
    {
      "cell_type": "code",
      "source": [
        "with open(\"hour.csv\") as file:\n",
        "    df = pd.read_csv(file)\n",
        "mean = df[\"windspeed\"].mean()\n",
        "median = df[\"windspeed\"].median()\n",
        "std = df[\"windspeed\"].std()\n",
        "print(\"Mean of windspeed:\",mean)\n",
        "print(\"Median of windspeed:\",median)\n",
        "print(\"Standard deviation of windspeed:\",std)"
      ],
      "metadata": {
        "id": "ucijLTNA4Clr",
        "colab": {
          "base_uri": "https://localhost:8080/"
        },
        "outputId": "5add29e2-26cb-4992-bf8f-d12660bdc528"
      },
      "execution_count": 95,
      "outputs": [
        {
          "output_type": "stream",
          "name": "stdout",
          "text": [
            "Mean of windspeed: 0.1900976063064618\n",
            "Median of windspeed: 0.194\n",
            "Standard deviation of windspeed: 0.12234022857279413\n"
          ]
        }
      ]
    },
    {
      "cell_type": "markdown",
      "source": [
        "## Q13. Identify any potential outliers in a numerical column of your choice. Explain your approach.\n"
      ],
      "metadata": {
        "id": "3dHaYtuP4C78"
      }
    },
    {
      "cell_type": "code",
      "source": [
        "with open(\"hour.csv\") as file:\n",
        "    df = pd.read_csv(file)\n",
        "Q1 = df[\"windspeed\"].quantile(0.25)\n",
        "Q3 = df[\"windspeed\"].quantile(0.75)\n",
        "IQR = Q3 - Q1\n",
        "with open(\"hour.csv\") as file:\n",
        "    df = pd.read_csv(file)\n",
        "Q1 = df[\"windspeed\"].quantile(0.25)\n",
        "Q3 = df[\"windspeed\"].quantile(0.75)\n",
        "IQR = Q3 - Q1\n",
        "lower_bound = Q1 - 1.5 * IQR\n",
        "upper_bound = Q3 + 1.5 * IQR\n",
        "outliers = df[(df[\"windspeed\"] < lower_bound) | (df[\"windspeed\"] > upper_bound)]\n",
        "print(\"Q1:\",Q1)\n",
        "print(\"Q3:\",Q3)\n",
        "print(\"IQR:\",IQR)\n",
        "print(\"Lower bound for outliers:\",lower_bound)\n",
        "print(f\"Upper bound for outliers:\", upper_bound)\n",
        "print(\"Number of potential outliers:\",outliers)\n",
        "print(\"\\nPotential outliers:\")\n",
        "print(outliers[[\"windspeed\"]])\n"
      ],
      "metadata": {
        "id": "nVkU-okb4EiU",
        "colab": {
          "base_uri": "https://localhost:8080/"
        },
        "outputId": "b4e54c63-7fb7-4f0f-b42d-820398d0c99f"
      },
      "execution_count": 132,
      "outputs": [
        {
          "output_type": "stream",
          "name": "stdout",
          "text": [
            "Q1: 0.1045\n",
            "Q3: 0.2537\n",
            "IQR: 0.1492\n",
            "Lower bound for outliers: -0.1193\n",
            "Upper bound for outliers: 0.4775\n",
            "Number of potential outliers:        instant      dteday  season  yr  mnth  hr  holiday  weekday  \\\n",
            "175        176  2011-01-08       1   0     1  14        0        6   \n",
            "178        179  2011-01-08       1   0     1  17        0        6   \n",
            "194        195  2011-01-09       1   0     1   9        0        0   \n",
            "196        197  2011-01-09       1   0     1  11        0        0   \n",
            "265        266  2011-01-12       1   0     1  12        0        3   \n",
            "...        ...         ...     ...  ..   ...  ..      ...      ...   \n",
            "17327    17328  2012-12-29       1   1    12  20        0        6   \n",
            "17328    17329  2012-12-29       1   1    12  21        0        6   \n",
            "17341    17342  2012-12-30       1   1    12  10        0        0   \n",
            "17343    17344  2012-12-30       1   1    12  12        0        0   \n",
            "17344    17345  2012-12-30       1   1    12  13        0        0   \n",
            "\n",
            "       workingday  weathersit  temp   atemp   hum  windspeed  casual  \\\n",
            "175             0           1  0.20  0.1667  0.32     0.4925      12   \n",
            "178             0           1  0.16  0.1212  0.37     0.5522       5   \n",
            "194             0           1  0.12  0.0758  0.46     0.5224       0   \n",
            "196             0           1  0.16  0.1212  0.40     0.5224       2   \n",
            "265             1           1  0.20  0.1515  0.47     0.5821       3   \n",
            "...           ...         ...   ...     ...   ...        ...     ...   \n",
            "17327           0           2  0.30  0.2424  0.56     0.5522       2   \n",
            "17328           0           2  0.28  0.2424  0.56     0.4925       4   \n",
            "17341           0           1  0.26  0.2121  0.41     0.5821      31   \n",
            "17343           0           1  0.28  0.2273  0.36     0.5821      47   \n",
            "17344           0           1  0.30  0.2576  0.36     0.6567      49   \n",
            "\n",
            "       registered  cnt  \n",
            "175            83   95  \n",
            "178            64   69  \n",
            "194            19   19  \n",
            "196            47   49  \n",
            "265            52   55  \n",
            "...           ...  ...  \n",
            "17327          64   66  \n",
            "17328          56   60  \n",
            "17341          91  122  \n",
            "17343          97  144  \n",
            "17344         120  169  \n",
            "\n",
            "[342 rows x 17 columns]\n",
            "\n",
            "Potential outliers:\n",
            "       windspeed\n",
            "175       0.4925\n",
            "178       0.5522\n",
            "194       0.5224\n",
            "196       0.5224\n",
            "265       0.5821\n",
            "...          ...\n",
            "17327     0.5522\n",
            "17328     0.4925\n",
            "17341     0.5821\n",
            "17343     0.5821\n",
            "17344     0.6567\n",
            "\n",
            "[342 rows x 1 columns]\n"
          ]
        }
      ]
    },
    {
      "cell_type": "markdown",
      "source": [
        "## Q.14 Find the correlation between numerical columns and discuss any interesting relationships."
      ],
      "metadata": {
        "id": "14sUq8ZF4E88"
      }
    },
    {
      "cell_type": "code",
      "source": [
        "with open(\"hour.csv\") as file:\n",
        "    df = pd.read_csv(file)\n",
        "num_columns = df.select_dtypes(include='number').columns\n",
        "corr_matrix = df[num_columns].corr()\n",
        "print(\"Correlation matrix:\")\n",
        "print(corr_matrix)"
      ],
      "metadata": {
        "id": "jnAOuuwt4Hmb",
        "colab": {
          "base_uri": "https://localhost:8080/"
        },
        "outputId": "4a7df621-bc6c-47cc-8eec-c6300a7cf5a4"
      },
      "execution_count": 51,
      "outputs": [
        {
          "output_type": "stream",
          "name": "stdout",
          "text": [
            "Correlation matrix:\n",
            "             instant    season        yr      mnth        hr   holiday  \\\n",
            "instant     1.000000  0.404046  0.866014  0.489164 -0.004775  0.014723   \n",
            "season      0.404046  1.000000 -0.010742  0.830386 -0.006117 -0.009585   \n",
            "yr          0.866014 -0.010742  1.000000 -0.010473 -0.003867  0.006692   \n",
            "mnth        0.489164  0.830386 -0.010473  1.000000 -0.005772  0.018430   \n",
            "hr         -0.004775 -0.006117 -0.003867 -0.005772  1.000000  0.000479   \n",
            "holiday     0.014723 -0.009585  0.006692  0.018430  0.000479  1.000000   \n",
            "weekday     0.001357 -0.002335 -0.004485  0.010400 -0.003498 -0.102088   \n",
            "workingday -0.003416  0.013743 -0.002196 -0.003477  0.002285 -0.252471   \n",
            "weathersit -0.014198 -0.014524 -0.019157  0.005400 -0.020203 -0.017036   \n",
            "temp        0.136178  0.312025  0.040913  0.201691  0.137603 -0.027340   \n",
            "atemp       0.137615  0.319380  0.039222  0.208096  0.133750 -0.030973   \n",
            "hum         0.009577  0.150625 -0.083546  0.164411 -0.276498 -0.010588   \n",
            "windspeed  -0.074505 -0.149773 -0.008740 -0.135386  0.137252  0.003988   \n",
            "casual      0.158295  0.120206  0.142779  0.068457  0.301202  0.031564   \n",
            "registered  0.282046  0.174226  0.253684  0.122273  0.374141 -0.047345   \n",
            "cnt         0.278379  0.178056  0.250495  0.120638  0.394071 -0.030927   \n",
            "\n",
            "             weekday  workingday  weathersit      temp     atemp       hum  \\\n",
            "instant     0.001357   -0.003416   -0.014198  0.136178  0.137615  0.009577   \n",
            "season     -0.002335    0.013743   -0.014524  0.312025  0.319380  0.150625   \n",
            "yr         -0.004485   -0.002196   -0.019157  0.040913  0.039222 -0.083546   \n",
            "mnth        0.010400   -0.003477    0.005400  0.201691  0.208096  0.164411   \n",
            "hr         -0.003498    0.002285   -0.020203  0.137603  0.133750 -0.276498   \n",
            "holiday    -0.102088   -0.252471   -0.017036 -0.027340 -0.030973 -0.010588   \n",
            "weekday     1.000000    0.035955    0.003311 -0.001795 -0.008821 -0.037158   \n",
            "workingday  0.035955    1.000000    0.044672  0.055390  0.054667  0.015688   \n",
            "weathersit  0.003311    0.044672    1.000000 -0.102640 -0.105563  0.418130   \n",
            "temp       -0.001795    0.055390   -0.102640  1.000000  0.987672 -0.069881   \n",
            "atemp      -0.008821    0.054667   -0.105563  0.987672  1.000000 -0.051918   \n",
            "hum        -0.037158    0.015688    0.418130 -0.069881 -0.051918  1.000000   \n",
            "windspeed   0.011502   -0.011830    0.026226 -0.023125 -0.062336 -0.290105   \n",
            "casual      0.032721   -0.300942   -0.152628  0.459616  0.454080 -0.347028   \n",
            "registered  0.021578    0.134326   -0.120966  0.335361  0.332559 -0.273933   \n",
            "cnt         0.026900    0.030284   -0.142426  0.404772  0.400929 -0.322911   \n",
            "\n",
            "            windspeed    casual  registered       cnt  \n",
            "instant     -0.074505  0.158295    0.282046  0.278379  \n",
            "season      -0.149773  0.120206    0.174226  0.178056  \n",
            "yr          -0.008740  0.142779    0.253684  0.250495  \n",
            "mnth        -0.135386  0.068457    0.122273  0.120638  \n",
            "hr           0.137252  0.301202    0.374141  0.394071  \n",
            "holiday      0.003988  0.031564   -0.047345 -0.030927  \n",
            "weekday      0.011502  0.032721    0.021578  0.026900  \n",
            "workingday  -0.011830 -0.300942    0.134326  0.030284  \n",
            "weathersit   0.026226 -0.152628   -0.120966 -0.142426  \n",
            "temp        -0.023125  0.459616    0.335361  0.404772  \n",
            "atemp       -0.062336  0.454080    0.332559  0.400929  \n",
            "hum         -0.290105 -0.347028   -0.273933 -0.322911  \n",
            "windspeed    1.000000  0.090287    0.082321  0.093234  \n",
            "casual       0.090287  1.000000    0.506618  0.694564  \n",
            "registered   0.082321  0.506618    1.000000  0.972151  \n",
            "cnt          0.093234  0.694564    0.972151  1.000000  \n"
          ]
        }
      ]
    },
    {
      "cell_type": "markdown",
      "source": [
        "## Q.15 Based on your analysis, provide a brief summary of any insights or patterns you discovered in the dataset."
      ],
      "metadata": {
        "id": "ru-xlbd44IAY"
      }
    },
    {
      "cell_type": "markdown",
      "source": [
        "#Correlation Insights:\n",
        "  ##  Strong Positive Correlation:\n",
        "- The total number of bike rentals (cnt) is heavily influenced by registered users, as they form the majority of rentals.\n",
        "- Casual users also contribute significantly to the total rentals, though less than registered users.\n",
        "\n",
        "## Moderate Positive Correlation:\n",
        "- Higher temperatures are associated with increased bike rentals, likely due to more favorable weather conditions.\n",
        "\n",
        "## Weak Negative Correlation:\n",
        "- Higher humidity is associated with fewer bike rentals, possibly because high humidity makes cycling less comfortable.\n",
        "\n",
        "## Outlier Analysis:\n",
        "- No outliers were detected in the windspeed column using the IQR method. This suggests that the data is relatively consistent in this regard."
      ],
      "metadata": {
        "id": "RsMfDNAbUiRN"
      }
    },
    {
      "cell_type": "markdown",
      "source": [
        "## Q.16 In which season (Spring, Summer, Fall, Winter) people rented bikes the most?"
      ],
      "metadata": {
        "id": "iMGro15Q5WhF"
      }
    },
    {
      "cell_type": "code",
      "source": [
        "with open(\"hour.csv\") as file:\n",
        "    df = pd.read_csv(file)\n",
        "seasons = {1: \"Spring\", 2: \"Summer\", 3: \"Fall\", 4: \"Winter\"}\n",
        "df[\"season\"] = df[\"season\"].replace(seasons)\n",
        "rentals =( df.groupby(\"season\")[\"cnt\"]\n",
        "    .sum()\n",
        "    .reset_index()\n",
        "    )\n",
        "most_rented_season = rentals.iloc[0]\n",
        "print(\"Total Bike Rentals by Season:\")\n",
        "print(rentals)\n",
        "print(\"The season with the most bike rentals is\", most_rented_season['season'], \"with\" ,most_rented_season['cnt'], \"rentals\")"
      ],
      "metadata": {
        "id": "KhlVV_bK5jxm",
        "colab": {
          "base_uri": "https://localhost:8080/"
        },
        "outputId": "1e2bdf56-a0ba-4bbe-dab3-84265898f2dc"
      },
      "execution_count": 134,
      "outputs": [
        {
          "output_type": "stream",
          "name": "stdout",
          "text": [
            "Total Bike Rentals by Season:\n",
            "   season      cnt\n",
            "0    Fall  1061129\n",
            "1  Spring   471348\n",
            "2  Summer   918589\n",
            "3  Winter   841613\n",
            "The season with the most bike rentals is Fall with 1061129 rentals\n"
          ]
        }
      ]
    },
    {
      "cell_type": "markdown",
      "source": [
        "## Q.17 What is the peak hour in which bike rents the most?"
      ],
      "metadata": {
        "id": "eudb_1Lb5sVc"
      }
    },
    {
      "cell_type": "code",
      "source": [
        "with open(\"hour.csv\") as file:\n",
        "    df = pd.read_csv(file)\n",
        "hourly_rentals = df.groupby(\"hr\")[\"cnt\"].sum().reset_index()\n",
        "peak_hour = hourly_rentals.loc[hourly_rentals[\"cnt\"].idxmax()]\n",
        "print(\"Total Bike Rentals by Hour:\")\n",
        "print(hourly_rentals)\n",
        "print(\"\\nPeak Hour:\")\n",
        "print(peak_hour)"
      ],
      "metadata": {
        "id": "p0xSgv8g50yt",
        "colab": {
          "base_uri": "https://localhost:8080/"
        },
        "outputId": "7e18845a-e343-4fc4-9b54-0ebe9f759ef1"
      },
      "execution_count": 103,
      "outputs": [
        {
          "output_type": "stream",
          "name": "stdout",
          "text": [
            "Total Bike Rentals by Hour:\n",
            "    hr     cnt\n",
            "0    0   39130\n",
            "1    1   24164\n",
            "2    2   16352\n",
            "3    3    8174\n",
            "4    4    4428\n",
            "5    5   14261\n",
            "6    6   55132\n",
            "7    7  154171\n",
            "8    8  261001\n",
            "9    9  159438\n",
            "10  10  126257\n",
            "11  11  151320\n",
            "12  12  184414\n",
            "13  13  184919\n",
            "14  14  175652\n",
            "15  15  183149\n",
            "16  16  227748\n",
            "17  17  336860\n",
            "18  18  309772\n",
            "19  19  226789\n",
            "20  20  164550\n",
            "21  21  125445\n",
            "22  22   95612\n",
            "23  23   63941\n",
            "\n",
            "Peak Hour:\n",
            "hr         17\n",
            "cnt    336860\n",
            "Name: 17, dtype: int64\n"
          ]
        }
      ]
    },
    {
      "cell_type": "markdown",
      "source": [
        "## Q.18 In which day of a week bikes rents out most?"
      ],
      "metadata": {
        "id": "y7rArqGQ6ji4"
      }
    },
    {
      "cell_type": "code",
      "source": [
        "with open(\"hour.csv\") as file:\n",
        "    df = pd.read_csv(file)\n",
        "weekday_map = {0: \"Sunday\", 1: \"Monday\", 2: \"Tuesday\", 3: \"Wednesday\", 4: \"Thursday\", 5: \"Friday\", 6: \"Saturday\"}\n",
        "df[\"weekday\"] = df[\"weekday\"].replace(weekday_map)\n",
        "daily_rentals = df.groupby(\"weekday\")[\"cnt\"].sum().reset_index()\n",
        "peak_day = daily_rentals.loc[daily_rentals[\"cnt\"].idxmax()]\n",
        "print(\"Total Bike Rentals by Day of the Week:\")\n",
        "print(daily_rentals)\n",
        "print(\"\\nDay with the Most Rentals:\")\n",
        "print(peak_day)"
      ],
      "metadata": {
        "id": "6GPCbpsx6oYE",
        "colab": {
          "base_uri": "https://localhost:8080/"
        },
        "outputId": "dff7226e-0b05-4c76-b9e3-6bec9a3fd5fe"
      },
      "execution_count": 129,
      "outputs": [
        {
          "output_type": "stream",
          "name": "stdout",
          "text": [
            "Total Bike Rentals by Day of the Week:\n",
            "     weekday     cnt\n",
            "0     Friday  487790\n",
            "1     Monday  455503\n",
            "2   Saturday  477807\n",
            "3     Sunday  444027\n",
            "4   Thursday  485395\n",
            "5    Tuesday  469109\n",
            "6  Wednesday  473048\n",
            "\n",
            "Day with the Most Rentals:\n",
            "weekday    Friday\n",
            "cnt        487790\n",
            "Name: 0, dtype: object\n"
          ]
        }
      ]
    },
    {
      "cell_type": "markdown",
      "source": [
        "## Q.19 In which hour Casual users rents bikes the most?"
      ],
      "metadata": {
        "id": "bFO_Twk66qw-"
      }
    },
    {
      "cell_type": "code",
      "source": [
        "with open(\"hour.csv\") as file:\n",
        "    df = pd.read_csv(file)\n",
        "casual_hour = df.groupby(\"hr\")[\"casual\"].sum().reset_index()\n",
        "peak_hour = casual_hour.loc[casual_hour[\"casual\"].idxmax()]\n",
        "print(\"Total Casual Bike Rentals by Hour:\")\n",
        "print(casual_hour)\n",
        "print(\"\\nPeak Hour for Casual Users:\")\n",
        "print(peak_hour)\n"
      ],
      "metadata": {
        "id": "59CHoEUt66GR",
        "colab": {
          "base_uri": "https://localhost:8080/"
        },
        "outputId": "5ecf2252-9cc7-4da9-cd99-097b16b6a40f"
      },
      "execution_count": 119,
      "outputs": [
        {
          "output_type": "stream",
          "name": "stdout",
          "text": [
            "Total Casual Bike Rentals by Hour:\n",
            "    hr  casual\n",
            "0    0    7375\n",
            "1    1    4709\n",
            "2    2    3412\n",
            "3    3    1893\n",
            "4    4     874\n",
            "5    5    1012\n",
            "6    6    3017\n",
            "7    7    8037\n",
            "8    8   15761\n",
            "9    9   22458\n",
            "10  10   33789\n",
            "11  11   43286\n",
            "12  12   49718\n",
            "13  13   52713\n",
            "14  14   55089\n",
            "15  15   54606\n",
            "16  16   53834\n",
            "17  17   54220\n",
            "18  18   44496\n",
            "19  19   35505\n",
            "20  20   26378\n",
            "21  21   20570\n",
            "22  22   16200\n",
            "23  23   11065\n",
            "\n",
            "Peak Hour for Casual Users:\n",
            "hr           14\n",
            "casual    55089\n",
            "Name: 14, dtype: int64\n"
          ]
        }
      ]
    },
    {
      "cell_type": "markdown",
      "source": [
        "## Q.20 What is the maximum temperature observed in each of the seasons?"
      ],
      "metadata": {
        "id": "wtvgNN-U69rh"
      }
    },
    {
      "cell_type": "code",
      "source": [
        "with open(\"hour.csv\") as file:\n",
        "    df = pd.read_csv(file)\n",
        "seas = {1: \"Spring\", 2: \"Summer\", 3: \"Fall\", 4: \"Winter\"}\n",
        "df[\"season\"] = df[\"season\"].replace(seas)\n",
        "max_temp = df.groupby(\"season\")[\"temp\"].max().reset_index()\n",
        "print(\"Maximum Temperature Observed in Each Season:\")\n",
        "print(max_temp)"
      ],
      "metadata": {
        "id": "U_NwDHv57tLT",
        "colab": {
          "base_uri": "https://localhost:8080/"
        },
        "outputId": "fb2d1571-a3f5-4762-a704-2265c46e3438"
      },
      "execution_count": 118,
      "outputs": [
        {
          "output_type": "stream",
          "name": "stdout",
          "text": [
            "Maximum Temperature Observed in Each Season:\n",
            "   season  temp\n",
            "0    Fall  1.00\n",
            "1  Spring  0.72\n",
            "2  Summer  0.94\n",
            "3  Winter  0.76\n"
          ]
        }
      ]
    }
  ]
}